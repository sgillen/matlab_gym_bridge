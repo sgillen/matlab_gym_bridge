{
 "cells": [
  {
   "cell_type": "code",
   "execution_count": 1,
   "metadata": {},
   "outputs": [
    {
     "name": "stdout",
     "output_type": "stream",
     "text": [
      "\n",
      "ans =\n",
      "\n",
      "    'Tg_eq = @(q) [-(9*sin(q(1)))/2;-(7*sin(q(2)))/2;-(5*sin(q(3)))/2;-(3*sin(q(4)))/2;-sin(q(5))/2];'\n",
      "\n",
      "\n",
      "ans =\n",
      "\n",
      "    'M_eq =  @(q) [21/4,(7*cos(q(1) - q(2)))/2,(5*cos(q(1) - q(3)))/2,(3*cos(q(1) - q(4)))/2,cos(q(1) - q(5))/2;(7*cos(q(1) - q(2)))/2,17/4,(5*cos(q(2) - q(3)))/2,(3*cos(q(2) - q(4)))/2,cos(q(2) - q(5))/2;(5*cos(q(1) - q(3)))/2,(5*cos(q(2) - q(3)))/2,13/4,(3*cos(q(3) - q(4)))/2,cos(q(3) - q(5))/2;(3*cos(q(1) - q(4)))/2,(3*cos(q(2) - q(4)))/2,(3*cos(q(3) - q(4)))/2,9/4,cos(q(4) - q(5))/2;cos(q(1) - q(5))/2,cos(q(2) - q(5))/2,cos(q(3) - q(5))/2,cos(q(4) - q(5))/2,5/4];'\n",
      "\n",
      "\n",
      "ans =\n",
      "\n",
      "    'C_eq =  @(q) [2,(7*q(7)*sin(q(1) - q(2)))/2 - 1,(5*q(8)*sin(q(1) - q(3)))/2,(3*q(9)*sin(q(1) - q(4)))/2,(q(10)*sin(q(1) - q(5)))/2;- (7*q(6)*sin(q(1) - q(2)))/2 - 1,2,(5*q(8)*sin(q(2) - q(3)))/2 - 1,(3*q(9)*sin(q(2) - q(4)))/2,(q(10)*sin(q(2) - q(5)))/2;-(5*q(6)*sin(q(1) - q(3)))/2,- (5*q(7)*sin(q(2) - q(3)))/2 - 1,2,(3*q(9)*sin(q(3) - q(4)))/2 - 1,(q(10)*sin(q(3) - q(5)))/2;-(3*q(6)*sin(q(1) - q(4)))/2,-(3*q(7)*sin(q(2) - q(4)))/2,- (3*q(8)*sin(q(3) - q(4)))/2 - 1,2,(q(10)*sin(q(4) - q(5)))/2 - 1;-(q(6)*sin(q(1) - q(5)))/2,-(q(7)*sin(q(2) - q(5)))/2,-(q(8)*sin(q(3) - q(5)))/2,- (q(9)*sin(q(4) - q(5)))/2 - 1,1];'\n",
      "\n",
      "\n",
      "ans =\n",
      "\n",
      "    'Tg_eq = @(q) [-(9*sin(q(1)))/2;-(7*sin(q(2)))/2;-(5*sin(q(3)))/2;-(3*sin(q(4)))/2;-sin(q(5))/2];'\n",
      "\n",
      "\n",
      "ans =\n",
      "\n",
      "    'M_eq =  @(q) [21/4,(7*cos(q(1) - q(2)))/2,(5*cos(q(1) - q(3)))/2,(3*cos(q(1) - q(4)))/2,cos(q(1) - q(5))/2;(7*cos(q(1) - q(2)))/2,17/4,(5*cos(q(2) - q(3)))/2,(3*cos(q(2) - q(4)))/2,cos(q(2) - q(5))/2;(5*cos(q(1) - q(3)))/2,(5*cos(q(2) - q(3)))/2,13/4,(3*cos(q(3) - q(4)))/2,cos(q(3) - q(5))/2;(3*cos(q(1) - q(4)))/2,(3*cos(q(2) - q(4)))/2,(3*cos(q(3) - q(4)))/2,9/4,cos(q(4) - q(5))/2;cos(q(1) - q(5))/2,cos(q(2) - q(5))/2,cos(q(3) - q(5))/2,cos(q(4) - q(5))/2,5/4];'\n",
      "\n",
      "\n",
      "ans =\n",
      "\n",
      "    'C_eq =  @(q) [2,(7*q(7)*sin(q(1) - q(2)))/2 - 1,(5*q(8)*sin(q(1) - q(3)))/2,(3*q(9)*sin(q(1) - q(4)))/2,(q(10)*sin(q(1) - q(5)))/2;- (7*q(6)*sin(q(1) - q(2)))/2 - 1,2,(5*q(8)*sin(q(2) - q(3)))/2 - 1,(3*q(9)*sin(q(2) - q(4)))/2,(q(10)*sin(q(2) - q(5)))/2;-(5*q(6)*sin(q(1) - q(3)))/2,- (5*q(7)*sin(q(2) - q(3)))/2 - 1,2,(3*q(9)*sin(q(3) - q(4)))/2 - 1,(q(10)*sin(q(3) - q(5)))/2;-(3*q(6)*sin(q(1) - q(4)))/2,-(3*q(7)*sin(q(2) - q(4)))/2,- (3*q(8)*sin(q(3) - q(4)))/2 - 1,2,(q(10)*sin(q(4) - q(5)))/2 - 1;-(q(6)*sin(q(1) - q(5)))/2,-(q(7)*sin(q(2) - q(5)))/2,-(q(8)*sin(q(3) - q(5)))/2,- (q(9)*sin(q(4) - q(5)))/2 - 1,1];'\n",
      "\n",
      "\n",
      "ans =\n",
      "\n",
      "    'Tg_eq = @(q) [-(9*sin(q(1)))/2;-(7*sin(q(2)))/2;-(5*sin(q(3)))/2;-(3*sin(q(4)))/2;-sin(q(5))/2];'\n",
      "\n",
      "\n",
      "ans =\n",
      "\n",
      "    'M_eq =  @(q) [21/4,(7*cos(q(1) - q(2)))/2,(5*cos(q(1) - q(3)))/2,(3*cos(q(1) - q(4)))/2,cos(q(1) - q(5))/2;(7*cos(q(1) - q(2)))/2,17/4,(5*cos(q(2) - q(3)))/2,(3*cos(q(2) - q(4)))/2,cos(q(2) - q(5))/2;(5*cos(q(1) - q(3)))/2,(5*cos(q(2) - q(3)))/2,13/4,(3*cos(q(3) - q(4)))/2,cos(q(3) - q(5))/2;(3*cos(q(1) - q(4)))/2,(3*cos(q(2) - q(4)))/2,(3*cos(q(3) - q(4)))/2,9/4,cos(q(4) - q(5))/2;cos(q(1) - q(5))/2,cos(q(2) - q(5))/2,cos(q(3) - q(5))/2,cos(q(4) - q(5))/2,5/4];'\n",
      "\n",
      "\n",
      "ans =\n",
      "\n",
      "    'C_eq =  @(q) [2,(7*q(7)*sin(q(1) - q(2)))/2 - 1,(5*q(8)*sin(q(1) - q(3)))/2,(3*q(9)*sin(q(1) - q(4)))/2,(q(10)*sin(q(1) - q(5)))/2;- (7*q(6)*sin(q(1) - q(2)))/2 - 1,2,(5*q(8)*sin(q(2) - q(3)))/2 - 1,(3*q(9)*sin(q(2) - q(4)))/2,(q(10)*sin(q(2) - q(5)))/2;-(5*q(6)*sin(q(1) - q(3)))/2,- (5*q(7)*sin(q(2) - q(3)))/2 - 1,2,(3*q(9)*sin(q(3) - q(4)))/2 - 1,(q(10)*sin(q(3) - q(5)))/2;-(3*q(6)*sin(q(1) - q(4)))/2,-(3*q(7)*sin(q(2) - q(4)))/2,- (3*q(8)*sin(q(3) - q(4)))/2 - 1,2,(q(10)*sin(q(4) - q(5)))/2 - 1;-(q(6)*sin(q(1) - q(5)))/2,-(q(7)*sin(q(2) - q(5)))/2,-(q(8)*sin(q(3) - q(5)))/2,- (q(9)*sin(q(4) - q(5)))/2 - 1,1];'\n",
      "\n",
      "\n",
      "ans =\n",
      "\n",
      "    'Tg_eq = @(q) [-(9*sin(q(1)))/2;-(7*sin(q(2)))/2;-(5*sin(q(3)))/2;-(3*sin(q(4)))/2;-sin(q(5))/2];'\n",
      "\n",
      "\n",
      "ans =\n",
      "\n",
      "    'M_eq =  @(q) [21/4,(7*cos(q(1) - q(2)))/2,(5*cos(q(1) - q(3)))/2,(3*cos(q(1) - q(4)))/2,cos(q(1) - q(5))/2;(7*cos(q(1) - q(2)))/2,17/4,(5*cos(q(2) - q(3)))/2,(3*cos(q(2) - q(4)))/2,cos(q(2) - q(5))/2;(5*cos(q(1) - q(3)))/2,(5*cos(q(2) - q(3)))/2,13/4,(3*cos(q(3) - q(4)))/2,cos(q(3) - q(5))/2;(3*cos(q(1) - q(4)))/2,(3*cos(q(2) - q(4)))/2,(3*cos(q(3) - q(4)))/2,9/4,cos(q(4) - q(5))/2;cos(q(1) - q(5))/2,cos(q(2) - q(5))/2,cos(q(3) - q(5))/2,cos(q(4) - q(5))/2,5/4];'\n",
      "\n",
      "\n",
      "ans =\n",
      "\n",
      "    'C_eq =  @(q) [2,(7*q(7)*sin(q(1) - q(2)))/2 - 1,(5*q(8)*sin(q(1) - q(3)))/2,(3*q(9)*sin(q(1) - q(4)))/2,(q(10)*sin(q(1) - q(5)))/2;- (7*q(6)*sin(q(1) - q(2)))/2 - 1,2,(5*q(8)*sin(q(2) - q(3)))/2 - 1,(3*q(9)*sin(q(2) - q(4)))/2,(q(10)*sin(q(2) - q(5)))/2;-(5*q(6)*sin(q(1) - q(3)))/2,- (5*q(7)*sin(q(2) - q(3)))/2 - 1,2,(3*q(9)*sin(q(3) - q(4)))/2 - 1,(q(10)*sin(q(3) - q(5)))/2;-(3*q(6)*sin(q(1) - q(4)))/2,-(3*q(7)*sin(q(2) - q(4)))/2,- (3*q(8)*sin(q(3) - q(4)))/2 - 1,2,(q(10)*sin(q(4) - q(5)))/2 - 1;-(q(6)*sin(q(1) - q(5)))/2,-(q(7)*sin(q(2) - q(5)))/2,-(q(8)*sin(q(3) - q(5)))/2,- (q(9)*sin(q(4) - q(5)))/2 - 1,1];'\n",
      "\n",
      "\n",
      "ans =\n",
      "\n",
      "    'Tg_eq = @(q) [-(9*sin(q(1)))/2;-(7*sin(q(2)))/2;-(5*sin(q(3)))/2;-(3*sin(q(4)))/2;-sin(q(5))/2];'\n",
      "\n",
      "\n",
      "ans =\n",
      "\n",
      "    'M_eq =  @(q) [21/4,(7*cos(q(1) - q(2)))/2,(5*cos(q(1) - q(3)))/2,(3*cos(q(1) - q(4)))/2,cos(q(1) - q(5))/2;(7*cos(q(1) - q(2)))/2,17/4,(5*cos(q(2) - q(3)))/2,(3*cos(q(2) - q(4)))/2,cos(q(2) - q(5))/2;(5*cos(q(1) - q(3)))/2,(5*cos(q(2) - q(3)))/2,13/4,(3*cos(q(3) - q(4)))/2,cos(q(3) - q(5))/2;(3*cos(q(1) - q(4)))/2,(3*cos(q(2) - q(4)))/2,(3*cos(q(3) - q(4)))/2,9/4,cos(q(4) - q(5))/2;cos(q(1) - q(5))/2,cos(q(2) - q(5))/2,cos(q(3) - q(5))/2,cos(q(4) - q(5))/2,5/4];'\n",
      "\n",
      "\n",
      "ans =\n",
      "\n",
      "    'C_eq =  @(q) [2,(7*q(7)*sin(q(1) - q(2)))/2 - 1,(5*q(8)*sin(q(1) - q(3)))/2,(3*q(9)*sin(q(1) - q(4)))/2,(q(10)*sin(q(1) - q(5)))/2;- (7*q(6)*sin(q(1) - q(2)))/2 - 1,2,(5*q(8)*sin(q(2) - q(3)))/2 - 1,(3*q(9)*sin(q(2) - q(4)))/2,(q(10)*sin(q(2) - q(5)))/2;-(5*q(6)*sin(q(1) - q(3)))/2,- (5*q(7)*sin(q(2) - q(3)))/2 - 1,2,(3*q(9)*sin(q(3) - q(4)))/2 - 1,(q(10)*sin(q(3) - q(5)))/2;-(3*q(6)*sin(q(1) - q(4)))/2,-(3*q(7)*sin(q(2) - q(4)))/2,- (3*q(8)*sin(q(3) - q(4)))/2 - 1,2,(q(10)*sin(q(4) - q(5)))/2 - 1;-(q(6)*sin(q(1) - q(5)))/2,-(q(7)*sin(q(2) - q(5)))/2,-(q(8)*sin(q(3) - q(5)))/2,- (q(9)*sin(q(4) - q(5)))/2 - 1,1];'\n",
      "\n",
      "\n",
      "ans =\n",
      "\n",
      "    'Tg_eq = @(q) [-(9*sin(q(1)))/2;-(7*sin(q(2)))/2;-(5*sin(q(3)))/2;-(3*sin(q(4)))/2;-sin(q(5))/2];'\n",
      "\n",
      "\n",
      "ans =\n",
      "\n",
      "    'M_eq =  @(q) [21/4,(7*cos(q(1) - q(2)))/2,(5*cos(q(1) - q(3)))/2,(3*cos(q(1) - q(4)))/2,cos(q(1) - q(5))/2;(7*cos(q(1) - q(2)))/2,17/4,(5*cos(q(2) - q(3)))/2,(3*cos(q(2) - q(4)))/2,cos(q(2) - q(5))/2;(5*cos(q(1) - q(3)))/2,(5*cos(q(2) - q(3)))/2,13/4,(3*cos(q(3) - q(4)))/2,cos(q(3) - q(5))/2;(3*cos(q(1) - q(4)))/2,(3*cos(q(2) - q(4)))/2,(3*cos(q(3) - q(4)))/2,9/4,cos(q(4) - q(5))/2;cos(q(1) - q(5))/2,cos(q(2) - q(5))/2,cos(q(3) - q(5))/2,cos(q(4) - q(5))/2,5/4];'\n",
      "\n",
      "\n",
      "ans =\n",
      "\n",
      "    'C_eq =  @(q) [2,(7*q(7)*sin(q(1) - q(2)))/2 - 1,(5*q(8)*sin(q(1) - q(3)))/2,(3*q(9)*sin(q(1) - q(4)))/2,(q(10)*sin(q(1) - q(5)))/2;- (7*q(6)*sin(q(1) - q(2)))/2 - 1,2,(5*q(8)*sin(q(2) - q(3)))/2 - 1,(3*q(9)*sin(q(2) - q(4)))/2,(q(10)*sin(q(2) - q(5)))/2;-(5*q(6)*sin(q(1) - q(3)))/2,- (5*q(7)*sin(q(2) - q(3)))/2 - 1,2,(3*q(9)*sin(q(3) - q(4)))/2 - 1,(q(10)*sin(q(3) - q(5)))/2;-(3*q(6)*sin(q(1) - q(4)))/2,-(3*q(7)*sin(q(2) - q(4)))/2,- (3*q(8)*sin(q(3) - q(4)))/2 - 1,2,(q(10)*sin(q(4) - q(5)))/2 - 1;-(q(6)*sin(q(1) - q(5)))/2,-(q(7)*sin(q(2) - q(5)))/2,-(q(8)*sin(q(3) - q(5)))/2,- (q(9)*sin(q(4) - q(5)))/2 - 1,1];'\n",
      "\n",
      "[10  1]\n",
      "[10  1]\n",
      "[10  1]\n",
      "[10  1]\n",
      "[10  1]\n",
      "[10  1]\n",
      "[5 1]\n",
      "[5 1]\n",
      "[5 1]\n",
      "[5 1]\n",
      "[5 1]\n",
      "[5 1]\n",
      "0 : mean return: -32927.51711617618, top_return: -2158.4553576724147, fps:3693.20273140755\n"
     ]
    },
    {
     "name": "stderr",
     "output_type": "stream",
     "text": [
      "Process Process-5:\n",
      "Process Process-2:\n",
      "Process Process-1:\n",
      "Process Process-6:\n",
      "Process Process-4:\n",
      "Process Process-3:\n",
      "Traceback (most recent call last):\n",
      "Traceback (most recent call last):\n",
      "Traceback (most recent call last):\n",
      "Traceback (most recent call last):\n",
      "  File \"/home/sgillen/anaconda3/envs/mat/lib/python3.7/multiprocessing/process.py\", line 297, in _bootstrap\n",
      "    self.run()\n",
      "  File \"/home/sgillen/anaconda3/envs/mat/lib/python3.7/multiprocessing/process.py\", line 297, in _bootstrap\n",
      "    self.run()\n",
      "Traceback (most recent call last):\n",
      "Traceback (most recent call last):\n",
      "  File \"/home/sgillen/anaconda3/envs/mat/lib/python3.7/multiprocessing/process.py\", line 297, in _bootstrap\n",
      "    self.run()\n",
      "  File \"/home/sgillen/anaconda3/envs/mat/lib/python3.7/multiprocessing/process.py\", line 99, in run\n",
      "    self._target(*self._args, **self._kwargs)\n",
      "  File \"/home/sgillen/anaconda3/envs/mat/lib/python3.7/multiprocessing/process.py\", line 297, in _bootstrap\n",
      "    self.run()\n",
      "  File \"/home/sgillen/anaconda3/envs/mat/lib/python3.7/multiprocessing/process.py\", line 297, in _bootstrap\n",
      "    self.run()\n",
      "  File \"/home/sgillen/anaconda3/envs/mat/lib/python3.7/multiprocessing/process.py\", line 297, in _bootstrap\n",
      "    self.run()\n",
      "  File \"/home/sgillen/anaconda3/envs/mat/lib/python3.7/multiprocessing/process.py\", line 99, in run\n",
      "    self._target(*self._args, **self._kwargs)\n",
      "  File \"/home/sgillen/anaconda3/envs/mat/lib/python3.7/multiprocessing/process.py\", line 99, in run\n",
      "    self._target(*self._args, **self._kwargs)\n",
      "  File \"/home/sgillen/work/seagul/seagul/rl/ars/ars_np.py\", line 38, in worker_fn\n",
      "    states, returns, log_returns = do_rollout_train(env, policy, postprocess)\n",
      "  File \"/home/sgillen/anaconda3/envs/mat/lib/python3.7/multiprocessing/process.py\", line 99, in run\n",
      "    self._target(*self._args, **self._kwargs)\n",
      "  File \"/home/sgillen/anaconda3/envs/mat/lib/python3.7/multiprocessing/process.py\", line 99, in run\n",
      "    self._target(*self._args, **self._kwargs)\n",
      "  File \"/home/sgillen/anaconda3/envs/mat/lib/python3.7/multiprocessing/process.py\", line 99, in run\n",
      "    self._target(*self._args, **self._kwargs)\n",
      "  File \"/home/sgillen/work/seagul/seagul/rl/ars/ars_np.py\", line 38, in worker_fn\n",
      "    states, returns, log_returns = do_rollout_train(env, policy, postprocess)\n",
      "  File \"/home/sgillen/work/seagul/seagul/rl/ars/ars_np.py\", line 57, in do_rollout_train\n",
      "    obs, reward, done, _ = env.step(actions)\n",
      "  File \"/home/sgillen/work/seagul/seagul/rl/ars/ars_np.py\", line 38, in worker_fn\n",
      "    states, returns, log_returns = do_rollout_train(env, policy, postprocess)\n",
      "  File \"/home/sgillen/work/seagul/seagul/rl/ars/ars_np.py\", line 38, in worker_fn\n",
      "    states, returns, log_returns = do_rollout_train(env, policy, postprocess)\n",
      "  File \"/home/sgillen/work/seagul/seagul/rl/ars/ars_np.py\", line 38, in worker_fn\n",
      "    states, returns, log_returns = do_rollout_train(env, policy, postprocess)\n",
      "  File \"/home/sgillen/work/seagul/seagul/rl/ars/ars_np.py\", line 38, in worker_fn\n",
      "    states, returns, log_returns = do_rollout_train(env, policy, postprocess)\n",
      "  File \"/home/sgillen/work/matlab_gym/matlab_gym/mat_gym_mmap.py\", line 99, in step\n",
      "    self._wait_for_mat()\n",
      "  File \"/home/sgillen/work/seagul/seagul/rl/ars/ars_np.py\", line 57, in do_rollout_train\n",
      "    obs, reward, done, _ = env.step(actions)\n",
      "  File \"/home/sgillen/work/seagul/seagul/rl/ars/ars_np.py\", line 57, in do_rollout_train\n",
      "    obs, reward, done, _ = env.step(actions)\n",
      "  File \"/home/sgillen/work/seagul/seagul/rl/ars/ars_np.py\", line 57, in do_rollout_train\n",
      "    obs, reward, done, _ = env.step(actions)\n",
      "  File \"/home/sgillen/work/seagul/seagul/rl/ars/ars_np.py\", line 57, in do_rollout_train\n",
      "    obs, reward, done, _ = env.step(actions)\n",
      "  File \"/home/sgillen/work/seagul/seagul/rl/ars/ars_np.py\", line 57, in do_rollout_train\n",
      "    obs, reward, done, _ = env.step(actions)\n",
      "  File \"/home/sgillen/work/matlab_gym/matlab_gym/mat_gym_mmap.py\", line 82, in _wait_for_mat\n",
      "    while(self.recv_mmap[0] != self.recv_byte):\n",
      "  File \"/home/sgillen/work/matlab_gym/matlab_gym/mat_gym_mmap.py\", line 99, in step\n",
      "    self._wait_for_mat()\n",
      "  File \"/home/sgillen/work/matlab_gym/matlab_gym/mat_gym_mmap.py\", line 99, in step\n",
      "    self._wait_for_mat()\n",
      "  File \"/home/sgillen/work/matlab_gym/matlab_gym/mat_gym_mmap.py\", line 99, in step\n",
      "    self._wait_for_mat()\n",
      "KeyboardInterrupt\n",
      "  File \"/home/sgillen/work/matlab_gym/matlab_gym/mat_gym_mmap.py\", line 99, in step\n",
      "    self._wait_for_mat()\n",
      "  File \"/home/sgillen/work/matlab_gym/matlab_gym/mat_gym_mmap.py\", line 82, in _wait_for_mat\n",
      "    while(self.recv_mmap[0] != self.recv_byte):\n",
      "  File \"/home/sgillen/work/matlab_gym/matlab_gym/mat_gym_mmap.py\", line 99, in step\n",
      "    self._wait_for_mat()\n",
      "  File \"/home/sgillen/work/matlab_gym/matlab_gym/mat_gym_mmap.py\", line 82, in _wait_for_mat\n",
      "    while(self.recv_mmap[0] != self.recv_byte):\n",
      "  File \"/home/sgillen/work/matlab_gym/matlab_gym/mat_gym_mmap.py\", line 82, in _wait_for_mat\n",
      "    while(self.recv_mmap[0] != self.recv_byte):\n",
      "  File \"/home/sgillen/work/matlab_gym/matlab_gym/mat_gym_mmap.py\", line 82, in _wait_for_mat\n",
      "    while(self.recv_mmap[0] != self.recv_byte):\n",
      "  File \"/home/sgillen/anaconda3/envs/mat/lib/python3.7/site-packages/numpy/core/memmap.py\", line 335, in __getitem__\n",
      "    if type(res) is memmap and res._mmap is None:\n",
      "  File \"/home/sgillen/work/matlab_gym/matlab_gym/mat_gym_mmap.py\", line 82, in _wait_for_mat\n",
      "    while(self.recv_mmap[0] != self.recv_byte):\n",
      "  File \"/home/sgillen/anaconda3/envs/mat/lib/python3.7/site-packages/numpy/core/memmap.py\", line 334, in __getitem__\n",
      "    res = super().__getitem__(index)\n",
      "  File \"/home/sgillen/anaconda3/envs/mat/lib/python3.7/site-packages/numpy/core/memmap.py\", line 334, in __getitem__\n",
      "    res = super().__getitem__(index)\n",
      "KeyboardInterrupt\n",
      "  File \"/home/sgillen/anaconda3/envs/mat/lib/python3.7/site-packages/numpy/core/memmap.py\", line 334, in __getitem__\n",
      "    res = super().__getitem__(index)\n",
      "KeyboardInterrupt\n",
      "KeyboardInterrupt\n",
      "KeyboardInterrupt\n",
      "KeyboardInterrupt\n",
      "Operation terminated by user during mmap_wrapper/runLoop (line 51)\n",
      "\n",
      "Operation terminated by user during memmapfile/subsref (line 797)\n",
      "\n",
      "\n",
      "In mmap_wrapper/runLoop (line 47)\n",
      "                    Action = obj.recv_mmap.Data(3:end);\n",
      "\n",
      "Operation terminated by user during mmap_wrapper/runLoop (line 52)\n",
      "\n",
      "Operation terminated by user during n_link_arm_Env/step (line 95)\n",
      "\n",
      "\n",
      "In mmap_wrapper/runLoop (line 48)\n",
      "                    [Observation, Reward, Done, ~] = obj.env.step(Action);\n",
      "\n",
      "Operation terminated by user during memmapfile/subsref (line 787)\n",
      "\n",
      "\n",
      "In memmapfile/hParseNumericDataSubsasgn (line 400)\n",
      "                LHS = subsref(obj, s(1)); % get array being assigned to\n",
      "\n",
      "In memmapfile/hDoDataSubsasgn (line 490)\n",
      "            [valid, s, newval] = hParseNumericDataSubsasgn(obj, s, newval);\n",
      "\n",
      "In memmapfile/subsasgn (line 749)\n",
      "                hDoDataSubsasgn(obj, s, newval);\n",
      "\n",
      "In mmap_wrapper/runLoop (line 50)\n",
      "                    obj.send_mmap.Data(2:obj.obs_size+1) = Observation;\n",
      "\n",
      "Operation terminated by user during memmapfile/hDoDataSubsasgn (line 490)\n",
      "\n",
      "\n",
      "In memmapfile/subsasgn (line 749)\n",
      "                hDoDataSubsasgn(obj, s, newval);\n",
      "\n",
      "In mmap_wrapper/runLoop (line 55)\n",
      "                obj.send_mmap.Data(1) = obj.send_byte;\n",
      "\n"
     ]
    },
    {
     "ename": "KeyboardInterrupt",
     "evalue": "",
     "output_type": "error",
     "traceback": [
      "\u001b[0;31m---------------------------------------------------------------------------\u001b[0m",
      "\u001b[0;31mKeyboardInterrupt\u001b[0m                         Traceback (most recent call last)",
      "\u001b[0;32m/tmp/ipykernel_6131/1079749818.py\u001b[0m in \u001b[0;36m<module>\u001b[0;34m\u001b[0m\n\u001b[1;32m     17\u001b[0m \u001b[0;31m#print(env.reset().shape)\u001b[0m\u001b[0;34m\u001b[0m\u001b[0;34m\u001b[0m\u001b[0;34m\u001b[0m\u001b[0m\n\u001b[1;32m     18\u001b[0m \u001b[0magent\u001b[0m \u001b[0;34m=\u001b[0m \u001b[0mARSAgent\u001b[0m\u001b[0;34m(\u001b[0m\u001b[0;34m'bball_1dof-v0'\u001b[0m\u001b[0;34m,\u001b[0m \u001b[0mseed\u001b[0m\u001b[0;34m=\u001b[0m\u001b[0;36m0\u001b[0m\u001b[0;34m,\u001b[0m \u001b[0mn_workers\u001b[0m\u001b[0;34m=\u001b[0m\u001b[0;36m6\u001b[0m\u001b[0;34m)\u001b[0m\u001b[0;34m\u001b[0m\u001b[0;34m\u001b[0m\u001b[0m\n\u001b[0;32m---> 19\u001b[0;31m \u001b[0magent\u001b[0m\u001b[0;34m.\u001b[0m\u001b[0mlearn\u001b[0m\u001b[0;34m(\u001b[0m\u001b[0;36m500\u001b[0m\u001b[0;34m)\u001b[0m\u001b[0;34m\u001b[0m\u001b[0;34m\u001b[0m\u001b[0m\n\u001b[0m\u001b[1;32m     20\u001b[0m \u001b[0;34m\u001b[0m\u001b[0m\n\u001b[1;32m     21\u001b[0m \u001b[0;31m#env = MatlabGymWrapper(\"/home/sgillen/work/n_link_arm/\", \"bball_1_dof_Env\")\u001b[0m\u001b[0;34m\u001b[0m\u001b[0;34m\u001b[0m\u001b[0;34m\u001b[0m\u001b[0m\n",
      "\u001b[0;32m~/work/seagul/seagul/rl/ars/ars_np.py\u001b[0m in \u001b[0;36mlearn\u001b[0;34m(self, n_epochs, verbose)\u001b[0m\n\u001b[1;32m    202\u001b[0m             \u001b[0mresults\u001b[0m \u001b[0;34m=\u001b[0m \u001b[0;34m[\u001b[0m\u001b[0;34m]\u001b[0m\u001b[0;34m\u001b[0m\u001b[0;34m\u001b[0m\u001b[0m\n\u001b[1;32m    203\u001b[0m             \u001b[0;32mfor\u001b[0m \u001b[0mi\u001b[0m\u001b[0;34m,\u001b[0m \u001b[0m_\u001b[0m \u001b[0;32min\u001b[0m \u001b[0menumerate\u001b[0m\u001b[0;34m(\u001b[0m\u001b[0mpm_W\u001b[0m\u001b[0;34m)\u001b[0m\u001b[0;34m:\u001b[0m\u001b[0;34m\u001b[0m\u001b[0;34m\u001b[0m\u001b[0m\n\u001b[0;32m--> 204\u001b[0;31m                 \u001b[0mresults\u001b[0m\u001b[0;34m.\u001b[0m\u001b[0mappend\u001b[0m\u001b[0;34m(\u001b[0m\u001b[0mworker_q_list\u001b[0m\u001b[0;34m[\u001b[0m\u001b[0mi\u001b[0m \u001b[0;34m%\u001b[0m \u001b[0mself\u001b[0m\u001b[0;34m.\u001b[0m\u001b[0mn_workers\u001b[0m\u001b[0;34m]\u001b[0m\u001b[0;34m.\u001b[0m\u001b[0mget\u001b[0m\u001b[0;34m(\u001b[0m\u001b[0;34m)\u001b[0m\u001b[0;34m)\u001b[0m\u001b[0;34m\u001b[0m\u001b[0;34m\u001b[0m\u001b[0m\n\u001b[0m\u001b[1;32m    205\u001b[0m \u001b[0;34m\u001b[0m\u001b[0m\n\u001b[1;32m    206\u001b[0m             \u001b[0mend\u001b[0m \u001b[0;34m=\u001b[0m \u001b[0mtime\u001b[0m\u001b[0;34m.\u001b[0m\u001b[0mtime\u001b[0m\u001b[0;34m(\u001b[0m\u001b[0;34m)\u001b[0m\u001b[0;34m\u001b[0m\u001b[0;34m\u001b[0m\u001b[0m\n",
      "\u001b[0;32m~/anaconda3/envs/mat/lib/python3.7/multiprocessing/queues.py\u001b[0m in \u001b[0;36mget\u001b[0;34m(self, block, timeout)\u001b[0m\n\u001b[1;32m     92\u001b[0m         \u001b[0;32mif\u001b[0m \u001b[0mblock\u001b[0m \u001b[0;32mand\u001b[0m \u001b[0mtimeout\u001b[0m \u001b[0;32mis\u001b[0m \u001b[0;32mNone\u001b[0m\u001b[0;34m:\u001b[0m\u001b[0;34m\u001b[0m\u001b[0;34m\u001b[0m\u001b[0m\n\u001b[1;32m     93\u001b[0m             \u001b[0;32mwith\u001b[0m \u001b[0mself\u001b[0m\u001b[0;34m.\u001b[0m\u001b[0m_rlock\u001b[0m\u001b[0;34m:\u001b[0m\u001b[0;34m\u001b[0m\u001b[0;34m\u001b[0m\u001b[0m\n\u001b[0;32m---> 94\u001b[0;31m                 \u001b[0mres\u001b[0m \u001b[0;34m=\u001b[0m \u001b[0mself\u001b[0m\u001b[0;34m.\u001b[0m\u001b[0m_recv_bytes\u001b[0m\u001b[0;34m(\u001b[0m\u001b[0;34m)\u001b[0m\u001b[0;34m\u001b[0m\u001b[0;34m\u001b[0m\u001b[0m\n\u001b[0m\u001b[1;32m     95\u001b[0m             \u001b[0mself\u001b[0m\u001b[0;34m.\u001b[0m\u001b[0m_sem\u001b[0m\u001b[0;34m.\u001b[0m\u001b[0mrelease\u001b[0m\u001b[0;34m(\u001b[0m\u001b[0;34m)\u001b[0m\u001b[0;34m\u001b[0m\u001b[0;34m\u001b[0m\u001b[0m\n\u001b[1;32m     96\u001b[0m         \u001b[0;32melse\u001b[0m\u001b[0;34m:\u001b[0m\u001b[0;34m\u001b[0m\u001b[0;34m\u001b[0m\u001b[0m\n",
      "\u001b[0;32m~/anaconda3/envs/mat/lib/python3.7/multiprocessing/connection.py\u001b[0m in \u001b[0;36mrecv_bytes\u001b[0;34m(self, maxlength)\u001b[0m\n\u001b[1;32m    214\u001b[0m         \u001b[0;32mif\u001b[0m \u001b[0mmaxlength\u001b[0m \u001b[0;32mis\u001b[0m \u001b[0;32mnot\u001b[0m \u001b[0;32mNone\u001b[0m \u001b[0;32mand\u001b[0m \u001b[0mmaxlength\u001b[0m \u001b[0;34m<\u001b[0m \u001b[0;36m0\u001b[0m\u001b[0;34m:\u001b[0m\u001b[0;34m\u001b[0m\u001b[0;34m\u001b[0m\u001b[0m\n\u001b[1;32m    215\u001b[0m             \u001b[0;32mraise\u001b[0m \u001b[0mValueError\u001b[0m\u001b[0;34m(\u001b[0m\u001b[0;34m\"negative maxlength\"\u001b[0m\u001b[0;34m)\u001b[0m\u001b[0;34m\u001b[0m\u001b[0;34m\u001b[0m\u001b[0m\n\u001b[0;32m--> 216\u001b[0;31m         \u001b[0mbuf\u001b[0m \u001b[0;34m=\u001b[0m \u001b[0mself\u001b[0m\u001b[0;34m.\u001b[0m\u001b[0m_recv_bytes\u001b[0m\u001b[0;34m(\u001b[0m\u001b[0mmaxlength\u001b[0m\u001b[0;34m)\u001b[0m\u001b[0;34m\u001b[0m\u001b[0;34m\u001b[0m\u001b[0m\n\u001b[0m\u001b[1;32m    217\u001b[0m         \u001b[0;32mif\u001b[0m \u001b[0mbuf\u001b[0m \u001b[0;32mis\u001b[0m \u001b[0;32mNone\u001b[0m\u001b[0;34m:\u001b[0m\u001b[0;34m\u001b[0m\u001b[0;34m\u001b[0m\u001b[0m\n\u001b[1;32m    218\u001b[0m             \u001b[0mself\u001b[0m\u001b[0;34m.\u001b[0m\u001b[0m_bad_message_length\u001b[0m\u001b[0;34m(\u001b[0m\u001b[0;34m)\u001b[0m\u001b[0;34m\u001b[0m\u001b[0;34m\u001b[0m\u001b[0m\n",
      "\u001b[0;32m~/anaconda3/envs/mat/lib/python3.7/multiprocessing/connection.py\u001b[0m in \u001b[0;36m_recv_bytes\u001b[0;34m(self, maxsize)\u001b[0m\n\u001b[1;32m    405\u001b[0m \u001b[0;34m\u001b[0m\u001b[0m\n\u001b[1;32m    406\u001b[0m     \u001b[0;32mdef\u001b[0m \u001b[0m_recv_bytes\u001b[0m\u001b[0;34m(\u001b[0m\u001b[0mself\u001b[0m\u001b[0;34m,\u001b[0m \u001b[0mmaxsize\u001b[0m\u001b[0;34m=\u001b[0m\u001b[0;32mNone\u001b[0m\u001b[0;34m)\u001b[0m\u001b[0;34m:\u001b[0m\u001b[0;34m\u001b[0m\u001b[0;34m\u001b[0m\u001b[0m\n\u001b[0;32m--> 407\u001b[0;31m         \u001b[0mbuf\u001b[0m \u001b[0;34m=\u001b[0m \u001b[0mself\u001b[0m\u001b[0;34m.\u001b[0m\u001b[0m_recv\u001b[0m\u001b[0;34m(\u001b[0m\u001b[0;36m4\u001b[0m\u001b[0;34m)\u001b[0m\u001b[0;34m\u001b[0m\u001b[0;34m\u001b[0m\u001b[0m\n\u001b[0m\u001b[1;32m    408\u001b[0m         \u001b[0msize\u001b[0m\u001b[0;34m,\u001b[0m \u001b[0;34m=\u001b[0m \u001b[0mstruct\u001b[0m\u001b[0;34m.\u001b[0m\u001b[0munpack\u001b[0m\u001b[0;34m(\u001b[0m\u001b[0;34m\"!i\"\u001b[0m\u001b[0;34m,\u001b[0m \u001b[0mbuf\u001b[0m\u001b[0;34m.\u001b[0m\u001b[0mgetvalue\u001b[0m\u001b[0;34m(\u001b[0m\u001b[0;34m)\u001b[0m\u001b[0;34m)\u001b[0m\u001b[0;34m\u001b[0m\u001b[0;34m\u001b[0m\u001b[0m\n\u001b[1;32m    409\u001b[0m         \u001b[0;32mif\u001b[0m \u001b[0mmaxsize\u001b[0m \u001b[0;32mis\u001b[0m \u001b[0;32mnot\u001b[0m \u001b[0;32mNone\u001b[0m \u001b[0;32mand\u001b[0m \u001b[0msize\u001b[0m \u001b[0;34m>\u001b[0m \u001b[0mmaxsize\u001b[0m\u001b[0;34m:\u001b[0m\u001b[0;34m\u001b[0m\u001b[0;34m\u001b[0m\u001b[0m\n",
      "\u001b[0;32m~/anaconda3/envs/mat/lib/python3.7/multiprocessing/connection.py\u001b[0m in \u001b[0;36m_recv\u001b[0;34m(self, size, read)\u001b[0m\n\u001b[1;32m    377\u001b[0m         \u001b[0mremaining\u001b[0m \u001b[0;34m=\u001b[0m \u001b[0msize\u001b[0m\u001b[0;34m\u001b[0m\u001b[0;34m\u001b[0m\u001b[0m\n\u001b[1;32m    378\u001b[0m         \u001b[0;32mwhile\u001b[0m \u001b[0mremaining\u001b[0m \u001b[0;34m>\u001b[0m \u001b[0;36m0\u001b[0m\u001b[0;34m:\u001b[0m\u001b[0;34m\u001b[0m\u001b[0;34m\u001b[0m\u001b[0m\n\u001b[0;32m--> 379\u001b[0;31m             \u001b[0mchunk\u001b[0m \u001b[0;34m=\u001b[0m \u001b[0mread\u001b[0m\u001b[0;34m(\u001b[0m\u001b[0mhandle\u001b[0m\u001b[0;34m,\u001b[0m \u001b[0mremaining\u001b[0m\u001b[0;34m)\u001b[0m\u001b[0;34m\u001b[0m\u001b[0;34m\u001b[0m\u001b[0m\n\u001b[0m\u001b[1;32m    380\u001b[0m             \u001b[0mn\u001b[0m \u001b[0;34m=\u001b[0m \u001b[0mlen\u001b[0m\u001b[0;34m(\u001b[0m\u001b[0mchunk\u001b[0m\u001b[0;34m)\u001b[0m\u001b[0;34m\u001b[0m\u001b[0;34m\u001b[0m\u001b[0m\n\u001b[1;32m    381\u001b[0m             \u001b[0;32mif\u001b[0m \u001b[0mn\u001b[0m \u001b[0;34m==\u001b[0m \u001b[0;36m0\u001b[0m\u001b[0;34m:\u001b[0m\u001b[0;34m\u001b[0m\u001b[0;34m\u001b[0m\u001b[0m\n",
      "\u001b[0;31mKeyboardInterrupt\u001b[0m: "
     ]
    }
   ],
   "source": [
    "from seagul.rl.ars import ARSAgent\n",
    "import gym\n",
    "from gym import register\n",
    "from functools import partial\n",
    "from mat_gym_wrapper import MatlabGymWrapper\n",
    "from mat_gym_mmap import MatlabGymMmapWrapper\n",
    "import pybullet_envs\n",
    "\n",
    "# env_partial = partial(MatlabGymWrapper, \"/home/sgillen/work/n_link_arm/\", \"/home/sgillen/work/n_link_arm/bball_1dof_apex/bball_1_dof_Env_apex_control.m\")\n",
    "# env_partial = partial(MatlabGymWrapper, \"/home/sgillen/work/n_link_arm/bball_1dof_apex/\", \"bball_1_dof_Env_apex_control\")\n",
    "\n",
    "#env_partial = partial(MatlabGymMmapWrapper, \"/home/sgillen/work/n_link_arm/bball_1dof_apex\", \"make_env\")\n",
    "env_partial = partial(MatlabGymMmapWrapper, \"/home/sgillen/work/n_link_arm/n_link\", \"make_env\")\n",
    "\n",
    "register(\"bball_1dof-v0\", entry_point=env_partial)\n",
    "#env = gym.make('Walker2DBulletEnv-v0')\n",
    "#print(env.reset().shape)\n",
    "agent = ARSAgent('bball_1dof-v0', seed=0, n_workers=6)\n",
    "agent.learn(500)\n",
    "\n",
    "#env = MatlabGymWrapper(\"/home/sgillen/work/n_link_arm/\", \"bball_1_dof_Env\")"
   ]
  },
  {
   "cell_type": "code",
   "execution_count": 5,
   "metadata": {},
   "outputs": [
    {
     "ename": "ModuleNotFoundError",
     "evalue": "No module named 'numpy.memmap'",
     "output_type": "error",
     "traceback": [
      "\u001b[0;31m---------------------------------------------------------------------------\u001b[0m",
      "\u001b[0;31mModuleNotFoundError\u001b[0m                       Traceback (most recent call last)",
      "\u001b[0;32m/tmp/ipykernel_10861/2822428688.py\u001b[0m in \u001b[0;36m<module>\u001b[0;34m\u001b[0m\n\u001b[1;32m      2\u001b[0m \u001b[0;32mimport\u001b[0m \u001b[0mnumpy\u001b[0m \u001b[0;32mas\u001b[0m \u001b[0mnp\u001b[0m\u001b[0;34m\u001b[0m\u001b[0;34m\u001b[0m\u001b[0m\n\u001b[1;32m      3\u001b[0m \u001b[0;32mimport\u001b[0m \u001b[0mmmap\u001b[0m\u001b[0;34m\u001b[0m\u001b[0;34m\u001b[0m\u001b[0m\n\u001b[0;32m----> 4\u001b[0;31m \u001b[0;32mimport\u001b[0m \u001b[0mnumpy\u001b[0m\u001b[0;34m.\u001b[0m\u001b[0mmemmap\u001b[0m \u001b[0;32mas\u001b[0m \u001b[0mnpmap\u001b[0m\u001b[0;34m\u001b[0m\u001b[0;34m\u001b[0m\u001b[0m\n\u001b[0m\u001b[1;32m      5\u001b[0m \u001b[0;34m\u001b[0m\u001b[0m\n\u001b[1;32m      6\u001b[0m \u001b[0;31m# import matlab\u001b[0m\u001b[0;34m\u001b[0m\u001b[0;34m\u001b[0m\u001b[0;34m\u001b[0m\u001b[0m\n",
      "\u001b[0;31mModuleNotFoundError\u001b[0m: No module named 'numpy.memmap'"
     ]
    }
   ],
   "source": [
    "\n",
    "\n",
    "# import matlab\n",
    "# import matlab.engine\n",
    "\n",
    "# with open(\"test.dat\", \"wb\") as f:\n",
    "#     f.write(b\"hello\\n\")\n",
    "\n",
    "#f = open(\"test.dat\", \"r+b\")\n",
    "\n",
    "#mm = mmap.mmap(f.fileno(), 0)"
   ]
  },
  {
   "cell_type": "code",
   "execution_count": 4,
   "metadata": {},
   "outputs": [
    {
     "data": {
      "text/plain": [
       "0"
      ]
     },
     "execution_count": 4,
     "metadata": {},
     "output_type": "execute_result"
    }
   ],
   "source": [
    "mm[0]"
   ]
  },
  {
   "cell_type": "code",
   "execution_count": 1,
   "metadata": {},
   "outputs": [],
   "source": [
    "import gym\n",
    "import numpy as np\n",
    "import mmap\n",
    "\n",
    "\n",
    "n = 50\n",
    "m_write = np.memmap(\"py_write.dat\", dtype=\"float64\", mode=\"write\", shape=(n,))\n",
    "m_read = np.memmap(\"mat_write.dat\", dtype=\"float64\", mode=\"readonly\", shape=(n,))"
   ]
  },
  {
   "cell_type": "code",
   "execution_count": 51,
   "metadata": {},
   "outputs": [],
   "source": [
    "import time\n",
    "wait_times = []\n",
    "\n",
    "for i in range(500):\n",
    "    \n",
    "    start = time.time()\n",
    "    m_write[0] = 1\n",
    "    while(m_read[0] != 1):\n",
    "        pass\n",
    "    m_write[1:] = np.ones(n-1)\n",
    "    wait_times.append(time.time() - start)\n",
    "    \n",
    "    start = time.time()\n",
    "    m_write[0] = 0\n",
    "    while(m_read[0] != 0):\n",
    "        pass\n",
    "    m_write[1:] = np.zeros(n-1)\n",
    "    wait_times.append(time.time() - start)\n",
    "\n"
   ]
  },
  {
   "cell_type": "code",
   "execution_count": 52,
   "metadata": {},
   "outputs": [],
   "source": [
    "wt = np.array(wait_times[1:])"
   ]
  },
  {
   "cell_type": "code",
   "execution_count": 53,
   "metadata": {},
   "outputs": [
    {
     "name": "stdout",
     "output_type": "stream",
     "text": [
      "0.0001237025260925293\n",
      "8083.909291003496\n"
     ]
    },
    {
     "data": {
      "image/png": "[encoded data removed]",
      "text/plain": [
       "<Figure size 432x288 with 1 Axes>"
      ]
     },
     "metadata": {
      "needs_background": "light"
     },
     "output_type": "display_data"
    }
   ],
   "source": [
    "import matplotlib.pyplot as plt\n",
    "plt.plot(wait_times)\n",
    "print(np.array(wait_times).mean())\n",
    "print(1/np.array(wait_times).mean())"
   ]
  },
  {
   "cell_type": "code",
   "execution_count": 26,
   "metadata": {},
   "outputs": [],
   "source": [
    "import matlab.engine\n",
    "eng = matlab.engine.start_matlab()"
   ]
  },
  {
   "cell_type": "code",
   "execution_count": 56,
   "metadata": {},
   "outputs": [],
   "source": [
    "eng_times = []\n",
    "for i in range(1000):\n",
    "    a = matlab.double(np.ones(50).tolist())\n",
    "    start = time.time()\n",
    "    am = eng.zeros(a, nargout=1)\n",
    "    eng_times.append(time.time() - start)"
   ]
  },
  {
   "cell_type": "code",
   "execution_count": 57,
   "metadata": {},
   "outputs": [
    {
     "name": "stdout",
     "output_type": "stream",
     "text": [
      "0.0012053685188293457\n",
      "829.6217997888317\n"
     ]
    },
    {
     "data": {
      "image/png": "[encoded data removed]",
      "text/plain": [
       "<Figure size 432x288 with 1 Axes>"
      ]
     },
     "metadata": {
      "needs_background": "light"
     },
     "output_type": "display_data"
    }
   ],
   "source": [
    "import matplotlib.pyplot as plt\n",
    "plt.plot(eng_times)\n",
    "print(np.array(eng_times).mean())\n",
    "print(1/np.array(eng_times).mean())"
   ]
  },
  {
   "cell_type": "code",
   "execution_count": 59,
   "metadata": {},
   "outputs": [
    {
     "data": {
      "text/plain": [
       "117.77877807617188"
      ]
     },
     "execution_count": 60,
     "metadata": {},
     "output_type": "execute_result"
    }
   ],
   "source": [
    "wait_times[5]/1e-6"
   ]
  },
  {
   "cell_type": "code",
   "execution_count": 73,
   "metadata": {},
   "outputs": [],
   "source": [
    "env_path = \"/home/sgillen/work/n_link_arm/bball_1dof\"\n",
    "launch_script = \"make_env\" \n",
    "\n",
    "eng = matlab.engine.start_matlab()\n",
    "eng.addpath(env_path)\n",
    "eval(f\"eng.{launch_script}(nargout=0)\")"
   ]
  },
  {
   "cell_type": "code",
   "execution_count": 74,
   "metadata": {},
   "outputs": [
    {
     "data": {
      "text/plain": [
       "<matlab.object at 0x7f746f3e2bf0>"
      ]
     },
     "execution_count": 74,
     "metadata": {},
     "output_type": "execute_result"
    }
   ],
   "source": [
    "eng.workspace[\"env\"]"
   ]
  },
  {
   "cell_type": "code",
   "execution_count": 87,
   "metadata": {},
   "outputs": [],
   "source": [
    "eng.__getattr__('make_env')(nargout=0)"
   ]
  },
  {
   "cell_type": "code",
   "execution_count": 88,
   "metadata": {},
   "outputs": [],
   "source": [
    "from mat_gym_mmap import MatlabGymMmapWrapper"
   ]
  },
  {
   "cell_type": "code",
   "execution_count": null,
   "metadata": {},
   "outputs": [],
   "source": [
    "MatlabGymMmapWrapper("
   ]
  }
 ],
 "metadata": {
  "kernelspec": {
   "display_name": "Matlab Engine",
   "language": "python",
   "name": "mat"
  },
  "language_info": {
   "codemirror_mode": {
    "name": "ipython",
    "version": 3
   },
   "file_extension": ".py",
   "mimetype": "text/x-python",
   "name": "python",
   "nbconvert_exporter": "python",
   "pygments_lexer": "ipython3",
   "version": "3.7.11"
  }
 },
 "nbformat": 4,
 "nbformat_minor": 4
}
